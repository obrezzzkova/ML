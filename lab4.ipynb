{
 "cells": [
  {
   "cell_type": "code",
   "execution_count": 1,
   "metadata": {},
   "outputs": [],
   "source": [
    "import pandas as pd\n",
    "from enum import Enum\n",
    "from operator import itemgetter\n",
    "import matplotlib.pyplot as plt\n",
    "import numpy as np\n",
    "import seaborn as sns\n",
    "from sklearn.preprocessing import StandardScaler, LabelEncoder\n",
    "%matplotlib inline"
   ]
  },
  {
   "cell_type": "code",
   "execution_count": 2,
   "metadata": {},
   "outputs": [],
   "source": [
    "class PredictionType(Enum):\n",
    "    CLASSIFICATION = 1\n",
    "    REGRESSION = 2"
   ]
  },
  {
   "cell_type": "code",
   "execution_count": 3,
   "metadata": {},
   "outputs": [],
   "source": [
    "from operator import itemgetter\n",
    "import matplotlib.pyplot as plt\n",
    "import numpy as np\n",
    "\n",
    "class SimpleKNN:\n",
    "    \n",
    "    def fit(self, X_train: np.matrix, y_train: np.ndarray):\n",
    "        \"\"\"\n",
    "        Метод обучения, который фактически не учится, \n",
    "        а только запоминает обучающую выборку.\n",
    "        Входные параметры:\n",
    "        X_train - обучающая выборка (матрица объект-признак)\n",
    "        y_train - обучающая выборка (вектор целевого признака)\n",
    "        Возвращаемое значение: нет\n",
    "        \"\"\"\n",
    "        #Сохраняем параметры в переменных класса\n",
    "        self._X_train = X_train\n",
    "        self._y_train = y_train\n",
    "          \n",
    "    def eucl_dist(self, p: np.ndarray, q: np.ndarray) -> float:\n",
    "        \"\"\"\n",
    "        Вычисление Евклидова расстояния - https://en.wikipedia.org/wiki/Euclidean_distance \n",
    "        Входные параметры:\n",
    "        p, q - вектора в n-мерном пространстве признаков\n",
    "        \"\"\"\n",
    "        return sum([(pi - qi) ** 2 for pi, qi in zip (p, q)])\n",
    "            \n",
    "            \n",
    "    def predict_for_single_object(self, K: int, \\\n",
    "                prediction_type: PredictionType, \\\n",
    "                X_o: np.ndarray, \\\n",
    "                verbose = True) -> np.ndarray:\n",
    "        \"\"\"\n",
    "        Метод предсказания для одного объекта.\n",
    "        Входные параметры:\n",
    "        K - гиперпараметр, количество соседей \n",
    "        prediction_type - классификация или регрессия \n",
    "        X_o - строка матрицы объект-признак, соответствующая объекту\n",
    "        verbose - флаг детального вывода\n",
    "        Возвращаемое значение: предсказанное значение целевого признака\n",
    "        \"\"\"\n",
    "        # список соседей\n",
    "        neighbors_list = []\n",
    "        # *** Находим ближайшие точки ***\n",
    "        # Перебираем все точки обучающей выборки\n",
    "        for i in range(self._X_train.shape[0]):\n",
    "            # получаем текущую точку\n",
    "            data_train_current_x = [x for x in self._X_train[['x1','x2']].iloc[i]]\n",
    "            # и значение ее y\n",
    "            data_train_current_y = self._y_train[i]\n",
    "            # вычисляем расстояние\n",
    "            dist = self.eucl_dist(X_o, data_train_current_x)\n",
    "            # сохраняем в список соседей\n",
    "            temp_res = (data_train_current_y, dist, data_train_current_x)\n",
    "            neighbors_list.append(temp_res)\n",
    "        # *** сортируем список соседей по возрастанию расстояния *** \n",
    "        # в кортеже элементы следуют в порядке (0,1,2), сортируем по первому элементу \n",
    "        neighbors_list_sorted = sorted(neighbors_list, key=itemgetter(1))\n",
    "        if verbose:\n",
    "            print()\n",
    "            print('**************************************')\n",
    "            print('Проверяемая точка: ', X_o)\n",
    "            print('**************************************')\n",
    "            print('Вывод отсортированного списка соседей:')    \n",
    "            dist_list = []\n",
    "            for cur_y, cur_dist, _ in neighbors_list_sorted:\n",
    "                print('y={0}, расстояние={1:.2f}'.format(cur_y, cur_dist))\n",
    "                dist_list.append(cur_dist)\n",
    "            print()\n",
    "            print('Вывод расстояния для отсортированного списка соседей:')    \n",
    "            plt.plot(dist_list)\n",
    "            plt.show()\n",
    "        # Оставим только K ближайших соседей\n",
    "        K_neighbors_list_sorted = neighbors_list_sorted[:K]\n",
    "        if verbose:\n",
    "            print('Вывод К ближайших соседей:')\n",
    "            x1_list = []\n",
    "            x2_list = []\n",
    "            for cur_y, cur_dist, temp_x_1_2 in K_neighbors_list_sorted:\n",
    "                temp_x1, temp_x2 = temp_x_1_2\n",
    "                x1_list.append(temp_x1)\n",
    "                x2_list.append(temp_x2)\n",
    "                print('y={0}, расстояние={1:.2f}'.format(cur_y, cur_dist))\n",
    "            print()\n",
    "            print('Визуализация К ближайших соседей:')\n",
    "            plt.plot(self._X_train['x1'], self._X_train['x2'], 'b.', \\\n",
    "                     x1_list, x2_list,  'g*', \\\n",
    "                    [X_o[0]], [X_o[1]], 'ro')\n",
    "            plt.show()   \n",
    "        # Результат - классификация или регрессия\n",
    "        if prediction_type == PredictionType.REGRESSION:\n",
    "            # используем numpy для вычисления среднего значения\n",
    "            arr = np.array([x for x,_,_ in K_neighbors_list_sorted])\n",
    "            # возвращаем среднее значение\n",
    "            return np.mean(arr)          \n",
    "        elif prediction_type == PredictionType.CLASSIFICATION:\n",
    "            k_y_list = [y for y,_,_ in K_neighbors_list_sorted]\n",
    "            # группируем с количеством метки классов,\n",
    "            # соответствующие K ближайшим соседям\n",
    "            k_y_list_grouped_temp = np.unique(k_y_list, return_counts=True)\n",
    "            k_y_list_grouped = [[key, cnt] for key, cnt in zip(k_y_list_grouped_temp[0], k_y_list_grouped_temp[1])]\n",
    "            # сортируем по количеству по убыванию\n",
    "            k_y_list_grouped_sorted = sorted(k_y_list_grouped, key=itemgetter(1), reverse=True)\n",
    "            if verbose:\n",
    "                print('Классы, соответствующие К ближайшим соседям:')\n",
    "                for i in k_y_list_grouped_sorted:\n",
    "                    print('класс={0}, количество элементов={1}'.format(i[0], i[1]))\n",
    "            # возвращаеv метку класса из первой строки отсортированного массива\n",
    "            # то есть того класса, к которому принадлежит наибольшее количество соседей\n",
    "            return k_y_list_grouped_sorted[0][0]\n",
    "        else:\n",
    "            raise Exception('Неизвестный тип предсказания')\n",
    "                   \n",
    "    \n",
    "    def predict(self, K: int, \\\n",
    "                prediction_type: PredictionType, \\\n",
    "                X_test: np.matrix, \n",
    "                verbose = True) -> np.ndarray:\n",
    "        \"\"\"\n",
    "        Метод предсказания.\n",
    "        Входные параметры:\n",
    "        K - гиперпараметр, количество соседей \n",
    "        prediction_type - классификация или регрессия \n",
    "        X_test - тестовая выборка (матрица объект-признак)\n",
    "        Возвращаемое значение: предсказанный вектор целевого признака\n",
    "        \"\"\"\n",
    "        # Перебираем все точки тестовой выборки\n",
    "        test_data_temp = []\n",
    "        for i in range(X_test.shape[0]):\n",
    "            # получаем текущую точку\n",
    "            data_test_current_x = [x for x in X_test.iloc[i]]\n",
    "            test_data_temp.append(data_test_current_x)       \n",
    "        return [self.predict_for_single_object(K=K, \\\n",
    "                prediction_type=prediction_type, \\\n",
    "                X_o=i, verbose=verbose) for i in test_data_temp]"
   ]
  },
  {
   "cell_type": "code",
   "execution_count": 4,
   "metadata": {},
   "outputs": [
    {
     "data": {
      "text/html": [
       "<div>\n",
       "<style scoped>\n",
       "    .dataframe tbody tr th:only-of-type {\n",
       "        vertical-align: middle;\n",
       "    }\n",
       "\n",
       "    .dataframe tbody tr th {\n",
       "        vertical-align: top;\n",
       "    }\n",
       "\n",
       "    .dataframe thead th {\n",
       "        text-align: right;\n",
       "    }\n",
       "</style>\n",
       "<table border=\"1\" class=\"dataframe\">\n",
       "  <thead>\n",
       "    <tr style=\"text-align: right;\">\n",
       "      <th></th>\n",
       "      <th>fixed acidity</th>\n",
       "      <th>volatile acidity</th>\n",
       "      <th>citric acid</th>\n",
       "      <th>residual sugar</th>\n",
       "      <th>chlorides</th>\n",
       "      <th>free sulfur dioxide</th>\n",
       "      <th>total sulfur dioxide</th>\n",
       "      <th>density</th>\n",
       "      <th>pH</th>\n",
       "      <th>sulphates</th>\n",
       "      <th>alcohol</th>\n",
       "      <th>quality</th>\n",
       "    </tr>\n",
       "  </thead>\n",
       "  <tbody>\n",
       "    <tr>\n",
       "      <th>0</th>\n",
       "      <td>7.4</td>\n",
       "      <td>0.70</td>\n",
       "      <td>0.00</td>\n",
       "      <td>1.9</td>\n",
       "      <td>0.076</td>\n",
       "      <td>11.0</td>\n",
       "      <td>34.0</td>\n",
       "      <td>0.9978</td>\n",
       "      <td>3.51</td>\n",
       "      <td>0.56</td>\n",
       "      <td>9.4</td>\n",
       "      <td>5</td>\n",
       "    </tr>\n",
       "    <tr>\n",
       "      <th>1</th>\n",
       "      <td>7.8</td>\n",
       "      <td>0.88</td>\n",
       "      <td>0.00</td>\n",
       "      <td>2.6</td>\n",
       "      <td>0.098</td>\n",
       "      <td>25.0</td>\n",
       "      <td>67.0</td>\n",
       "      <td>0.9968</td>\n",
       "      <td>3.20</td>\n",
       "      <td>0.68</td>\n",
       "      <td>9.8</td>\n",
       "      <td>5</td>\n",
       "    </tr>\n",
       "    <tr>\n",
       "      <th>2</th>\n",
       "      <td>7.8</td>\n",
       "      <td>0.76</td>\n",
       "      <td>0.04</td>\n",
       "      <td>2.3</td>\n",
       "      <td>0.092</td>\n",
       "      <td>15.0</td>\n",
       "      <td>54.0</td>\n",
       "      <td>0.9970</td>\n",
       "      <td>3.26</td>\n",
       "      <td>0.65</td>\n",
       "      <td>9.8</td>\n",
       "      <td>5</td>\n",
       "    </tr>\n",
       "    <tr>\n",
       "      <th>3</th>\n",
       "      <td>11.2</td>\n",
       "      <td>0.28</td>\n",
       "      <td>0.56</td>\n",
       "      <td>1.9</td>\n",
       "      <td>0.075</td>\n",
       "      <td>17.0</td>\n",
       "      <td>60.0</td>\n",
       "      <td>0.9980</td>\n",
       "      <td>3.16</td>\n",
       "      <td>0.58</td>\n",
       "      <td>9.8</td>\n",
       "      <td>6</td>\n",
       "    </tr>\n",
       "    <tr>\n",
       "      <th>4</th>\n",
       "      <td>7.4</td>\n",
       "      <td>0.70</td>\n",
       "      <td>0.00</td>\n",
       "      <td>1.9</td>\n",
       "      <td>0.076</td>\n",
       "      <td>11.0</td>\n",
       "      <td>34.0</td>\n",
       "      <td>0.9978</td>\n",
       "      <td>3.51</td>\n",
       "      <td>0.56</td>\n",
       "      <td>9.4</td>\n",
       "      <td>5</td>\n",
       "    </tr>\n",
       "  </tbody>\n",
       "</table>\n",
       "</div>"
      ],
      "text/plain": [
       "   fixed acidity  volatile acidity  citric acid  residual sugar  chlorides  \\\n",
       "0            7.4              0.70         0.00             1.9      0.076   \n",
       "1            7.8              0.88         0.00             2.6      0.098   \n",
       "2            7.8              0.76         0.04             2.3      0.092   \n",
       "3           11.2              0.28         0.56             1.9      0.075   \n",
       "4            7.4              0.70         0.00             1.9      0.076   \n",
       "\n",
       "   free sulfur dioxide  total sulfur dioxide  density    pH  sulphates  \\\n",
       "0                 11.0                  34.0   0.9978  3.51       0.56   \n",
       "1                 25.0                  67.0   0.9968  3.20       0.68   \n",
       "2                 15.0                  54.0   0.9970  3.26       0.65   \n",
       "3                 17.0                  60.0   0.9980  3.16       0.58   \n",
       "4                 11.0                  34.0   0.9978  3.51       0.56   \n",
       "\n",
       "   alcohol  quality  \n",
       "0      9.4        5  \n",
       "1      9.8        5  \n",
       "2      9.8        5  \n",
       "3      9.8        6  \n",
       "4      9.4        5  "
      ]
     },
     "execution_count": 4,
     "metadata": {},
     "output_type": "execute_result"
    }
   ],
   "source": [
    "data = pd.read_csv('winequality-red.csv')\n",
    "data.head()"
   ]
  },
  {
   "cell_type": "code",
   "execution_count": 5,
   "metadata": {},
   "outputs": [
    {
     "data": {
      "text/plain": [
       "fixed acidity           0\n",
       "volatile acidity        0\n",
       "citric acid             0\n",
       "residual sugar          0\n",
       "chlorides               0\n",
       "free sulfur dioxide     0\n",
       "total sulfur dioxide    0\n",
       "density                 0\n",
       "pH                      0\n",
       "sulphates               0\n",
       "alcohol                 0\n",
       "quality                 0\n",
       "dtype: int64"
      ]
     },
     "execution_count": 5,
     "metadata": {},
     "output_type": "execute_result"
    }
   ],
   "source": [
    "data.isnull().sum()"
   ]
  },
  {
   "cell_type": "code",
   "execution_count": 6,
   "metadata": {},
   "outputs": [
    {
     "data": {
      "text/plain": [
       "<BarContainer object of 1599 artists>"
      ]
     },
     "execution_count": 6,
     "metadata": {},
     "output_type": "execute_result"
    },
    {
     "data": {
      "text/plain": [
       "<Figure size 720x432 with 0 Axes>"
      ]
     },
     "metadata": {},
     "output_type": "display_data"
    },
    {
     "data": {
      "image/png": "[encoded data removed]",
      "text/plain": [
       "<Figure size 432x288 with 1 Axes>"
      ]
     },
     "metadata": {
      "needs_background": "light"
     },
     "output_type": "display_data"
    }
   ],
   "source": [
    "# Выберем критерии для построения модели. От каких параметров зависит качество вина?\n",
    "fig = plt.figure(figsize = (10,6))\n",
    "x = data['quality'].values\n",
    "y = data['volatile acidity'].values \n",
    "fig = plt.figure()\n",
    "plt.bar(x, y)\n",
    "# на этом графике прослеживается обратная зависимость между летучей кислотностью и качеством вина"
   ]
  },
  {
   "cell_type": "code",
   "execution_count": 7,
   "metadata": {},
   "outputs": [
    {
     "data": {
      "text/plain": [
       "<BarContainer object of 1599 artists>"
      ]
     },
     "execution_count": 7,
     "metadata": {},
     "output_type": "execute_result"
    },
    {
     "data": {
      "text/plain": [
       "<Figure size 720x432 with 0 Axes>"
      ]
     },
     "metadata": {},
     "output_type": "display_data"
    },
    {
     "data": {
      "image/png": "[encoded data removed]",
      "text/plain": [
       "<Figure size 432x288 with 1 Axes>"
      ]
     },
     "metadata": {
      "needs_background": "light"
     },
     "output_type": "display_data"
    }
   ],
   "source": [
    "fig = plt.figure(figsize = (10,6))\n",
    "x = data['quality'].values\n",
    "y = data['chlorides'].values \n",
    "fig = plt.figure()\n",
    "plt.bar(x, y)\n",
    "# прямой зависимости нет. При низком уровне хлоридов \n",
    "# вино может быть как высококачественным, так и нет.\n",
    "# У других критериев зависимость прослеживается еще хуже,\n",
    "# так что возьму этот."
   ]
  },
  {
   "cell_type": "code",
   "execution_count": 8,
   "metadata": {},
   "outputs": [],
   "source": [
    "# Целевой признак y предназначен для регресии. Построим на его основе признак для классификации.\n",
    "# 1 - высокое качество, 2 - среднее, 3 - низкое\n",
    "def regr_to_class(y: float) -> str:\n",
    "    if y < 5:\n",
    "        result = '3'\n",
    "    elif y < 7:\n",
    "        result = '2'\n",
    "    else:\n",
    "        result = '1'        \n",
    "    return result \n",
    "data['y_class'] = \\\n",
    "data.apply(lambda row: regr_to_class(row['quality']),axis=1)"
   ]
  },
  {
   "cell_type": "code",
   "execution_count": 9,
   "metadata": {},
   "outputs": [
    {
     "data": {
      "text/html": [
       "<div>\n",
       "<style scoped>\n",
       "    .dataframe tbody tr th:only-of-type {\n",
       "        vertical-align: middle;\n",
       "    }\n",
       "\n",
       "    .dataframe tbody tr th {\n",
       "        vertical-align: top;\n",
       "    }\n",
       "\n",
       "    .dataframe thead th {\n",
       "        text-align: right;\n",
       "    }\n",
       "</style>\n",
       "<table border=\"1\" class=\"dataframe\">\n",
       "  <thead>\n",
       "    <tr style=\"text-align: right;\">\n",
       "      <th></th>\n",
       "      <th>x1</th>\n",
       "      <th>x2</th>\n",
       "      <th>y</th>\n",
       "    </tr>\n",
       "  </thead>\n",
       "  <tbody>\n",
       "    <tr>\n",
       "      <th>0</th>\n",
       "      <td>0.70</td>\n",
       "      <td>0.076</td>\n",
       "      <td>2</td>\n",
       "    </tr>\n",
       "    <tr>\n",
       "      <th>1</th>\n",
       "      <td>0.88</td>\n",
       "      <td>0.098</td>\n",
       "      <td>2</td>\n",
       "    </tr>\n",
       "    <tr>\n",
       "      <th>2</th>\n",
       "      <td>0.76</td>\n",
       "      <td>0.092</td>\n",
       "      <td>2</td>\n",
       "    </tr>\n",
       "    <tr>\n",
       "      <th>3</th>\n",
       "      <td>0.28</td>\n",
       "      <td>0.075</td>\n",
       "      <td>2</td>\n",
       "    </tr>\n",
       "    <tr>\n",
       "      <th>4</th>\n",
       "      <td>0.70</td>\n",
       "      <td>0.076</td>\n",
       "      <td>2</td>\n",
       "    </tr>\n",
       "  </tbody>\n",
       "</table>\n",
       "</div>"
      ],
      "text/plain": [
       "     x1     x2  y\n",
       "0  0.70  0.076  2\n",
       "1  0.88  0.098  2\n",
       "2  0.76  0.092  2\n",
       "3  0.28  0.075  2\n",
       "4  0.70  0.076  2"
      ]
     },
     "execution_count": 9,
     "metadata": {},
     "output_type": "execute_result"
    }
   ],
   "source": [
    "# оставим толлько нужное\n",
    "df = data[['volatile acidity', 'chlorides','y_class']]\n",
    "df.columns=['x1', 'x2', 'y']\n",
    "df.head()"
   ]
  },
  {
   "cell_type": "code",
   "execution_count": 52,
   "metadata": {},
   "outputs": [],
   "source": [
    "features = df.drop(['y'],axis=1)\n",
    "target = df['y']"
   ]
  },
  {
   "cell_type": "code",
   "execution_count": 10,
   "metadata": {},
   "outputs": [],
   "source": [
    "# разделим выборку на обучающую и тестовую\n",
    "from sklearn.model_selection import train_test_split\n",
    "X = df.drop('y', axis = 1 )\n",
    "y = df['y']\n",
    "X_train, X_test, y_train, y_test = train_test_split(X, y, test_size=0.2, random_state=1)"
   ]
  },
  {
   "cell_type": "code",
   "execution_count": 11,
   "metadata": {},
   "outputs": [
    {
     "data": {
      "text/plain": [
       "array([[ 0.6648928 , -0.45362151],\n",
       "       [-0.62346154, -0.36954631],\n",
       "       [-1.07158479, -0.78992229],\n",
       "       ...,\n",
       "       [ 1.08500835,  0.61833724],\n",
       "       [ 0.55286199,  0.19796126],\n",
       "       [-0.73549236, -0.34852751]])"
      ]
     },
     "execution_count": 11,
     "metadata": {},
     "output_type": "execute_result"
    }
   ],
   "source": [
    "sc = StandardScaler()\n",
    "X_train = sc.fit_transform(X_train)\n",
    "X_test = sc.fit_transform(X_test)\n",
    "X_train"
   ]
  },
  {
   "cell_type": "code",
   "execution_count": 12,
   "metadata": {},
   "outputs": [
    {
     "data": {
      "image/png": "[encoded data removed]",
      "text/plain": [
       "<Figure size 432x288 with 1 Axes>"
      ]
     },
     "metadata": {
      "needs_background": "light"
     },
     "output_type": "display_data"
    }
   ],
   "source": [
    "# визуализация выборки\n",
    "plt.plot(X_train, 'b.', \\\n",
    "         X_test, 'ro')\n",
    "plt.show() "
   ]
  },
  {
   "cell_type": "markdown",
   "metadata": {},
   "source": [
    "# Использование sklearn для классификации"
   ]
  },
  {
   "cell_type": "code",
   "execution_count": 13,
   "metadata": {},
   "outputs": [],
   "source": [
    "from sklearn.neighbors import KNeighborsRegressor, KNeighborsClassifier"
   ]
  },
  {
   "cell_type": "code",
   "execution_count": 14,
   "metadata": {},
   "outputs": [
    {
     "data": {
      "text/plain": [
       "(320,\n",
       " array(['2', '2', '2', '2', '2', '1', '2', '2', '2', '2', '2', '2', '2',\n",
       "        '2', '2', '2', '2', '2', '2', '2', '2', '2', '2', '1', '2', '2',\n",
       "        '1', '2', '2', '2', '2', '2', '2', '2', '2', '1', '2', '2', '2',\n",
       "        '2', '2', '1', '2', '2', '3', '1', '2', '2', '2', '1', '2', '2',\n",
       "        '1', '2', '1', '2', '1', '2', '1', '2', '1', '2', '2', '2', '2',\n",
       "        '2', '2', '3', '1', '1', '2', '1', '2', '2', '2', '2', '2', '2',\n",
       "        '2', '2', '2', '2', '2', '2', '2', '2', '2', '2', '2', '2', '2',\n",
       "        '1', '2', '2', '2', '2', '2', '2', '2', '2', '2', '2', '2', '2',\n",
       "        '2', '2', '2', '2', '1', '2', '2', '2', '2', '2', '2', '1', '2',\n",
       "        '2', '2', '2', '2', '2', '2', '3', '2', '2', '2', '2', '2', '2',\n",
       "        '2', '2', '1', '2', '2', '1', '2', '2', '2', '1', '2', '2', '2',\n",
       "        '3', '1', '2', '2', '2', '1', '3', '2', '2', '2', '2', '2', '2',\n",
       "        '1', '2', '2', '2', '2', '2', '2', '2', '2', '2', '1', '2', '2',\n",
       "        '2', '2', '2', '2', '2', '2', '1', '2', '2', '2', '2', '2', '2',\n",
       "        '2', '2', '1', '2', '2', '2', '2', '2', '2', '2', '2', '3', '2',\n",
       "        '2', '1', '2', '2', '2', '2', '2', '1', '2', '2', '2', '2', '2',\n",
       "        '2', '2', '2', '2', '2', '2', '2', '2', '2', '2', '1', '1', '2',\n",
       "        '1', '2', '2', '2', '2', '2', '1', '2', '2', '2', '2', '2', '2',\n",
       "        '1', '2', '2', '2', '2', '2', '2', '2', '2', '2', '2', '2', '2',\n",
       "        '2', '2', '2', '2', '2', '2', '2', '2', '2', '1', '2', '2', '2',\n",
       "        '2', '2', '2', '2', '1', '1', '2', '3', '2', '2', '2', '2', '2',\n",
       "        '2', '2', '2', '3', '2', '2', '2', '2', '2', '2', '2', '2', '1',\n",
       "        '1', '2', '2', '2', '2', '2', '1', '2', '2', '1', '2', '3', '2',\n",
       "        '2', '2', '2', '2', '2', '2', '2', '2', '1', '2', '2', '2', '2',\n",
       "        '2', '1', '2', '2', '2', '2', '1', '2'], dtype=object))"
      ]
     },
     "execution_count": 14,
     "metadata": {},
     "output_type": "execute_result"
    }
   ],
   "source": [
    "#2 ближайших соседа\n",
    "cl1 = KNeighborsClassifier(n_neighbors=1)\n",
    "cl1.fit(X_train,y_train)\n",
    "target1 = cl1.predict(X_test)\n",
    "len(target1), target1"
   ]
  },
  {
   "cell_type": "code",
   "execution_count": 15,
   "metadata": {},
   "outputs": [
    {
     "data": {
      "text/plain": [
       "(320,\n",
       " array(['2', '2', '2', '2', '2', '2', '1', '2', '2', '2', '2', '2', '2',\n",
       "        '2', '1', '2', '2', '2', '2', '2', '2', '2', '2', '1', '2', '2',\n",
       "        '1', '2', '2', '2', '2', '1', '2', '1', '2', '1', '2', '2', '1',\n",
       "        '2', '2', '2', '2', '2', '2', '2', '2', '2', '2', '1', '2', '2',\n",
       "        '1', '2', '2', '2', '2', '2', '2', '2', '2', '2', '2', '2', '2',\n",
       "        '2', '2', '2', '2', '2', '2', '1', '2', '2', '2', '2', '2', '2',\n",
       "        '2', '2', '1', '2', '2', '2', '2', '2', '2', '2', '2', '2', '2',\n",
       "        '2', '2', '2', '2', '2', '2', '2', '2', '1', '2', '2', '2', '2',\n",
       "        '2', '2', '2', '2', '2', '2', '2', '2', '2', '2', '2', '1', '2',\n",
       "        '2', '2', '2', '2', '2', '2', '2', '2', '2', '2', '2', '2', '2',\n",
       "        '2', '2', '1', '2', '2', '2', '2', '2', '2', '2', '2', '2', '2',\n",
       "        '2', '1', '2', '2', '2', '2', '2', '2', '1', '2', '2', '2', '2',\n",
       "        '1', '2', '2', '2', '1', '1', '2', '2', '2', '2', '1', '2', '2',\n",
       "        '2', '2', '2', '2', '2', '1', '2', '2', '2', '2', '2', '2', '2',\n",
       "        '2', '2', '1', '2', '2', '2', '2', '2', '2', '2', '2', '2', '2',\n",
       "        '2', '1', '2', '2', '2', '2', '2', '1', '2', '2', '2', '2', '2',\n",
       "        '2', '2', '2', '2', '2', '2', '2', '2', '2', '2', '2', '2', '2',\n",
       "        '2', '2', '2', '2', '2', '2', '2', '1', '2', '2', '2', '2', '2',\n",
       "        '2', '2', '2', '2', '2', '2', '2', '2', '2', '2', '1', '2', '2',\n",
       "        '2', '2', '2', '2', '2', '2', '2', '2', '2', '1', '2', '2', '2',\n",
       "        '2', '2', '2', '2', '2', '2', '2', '2', '2', '2', '2', '2', '2',\n",
       "        '1', '2', '2', '2', '2', '2', '2', '2', '2', '2', '2', '2', '2',\n",
       "        '2', '2', '2', '2', '2', '2', '2', '2', '2', '2', '2', '2', '2',\n",
       "        '1', '2', '2', '2', '2', '2', '2', '2', '2', '2', '2', '2', '2',\n",
       "        '2', '2', '2', '1', '2', '2', '2', '2'], dtype=object))"
      ]
     },
     "execution_count": 15,
     "metadata": {},
     "output_type": "execute_result"
    }
   ],
   "source": [
    "#10 ближайших соседей\n",
    "cl2 = KNeighborsClassifier(n_neighbors=10)\n",
    "cl2.fit(X_train,y_train)\n",
    "target2 = cl2.predict(X_test)\n",
    "len(target2), target2"
   ]
  },
  {
   "cell_type": "markdown",
   "metadata": {},
   "source": [
    "# Метрики качества классификации"
   ]
  },
  {
   "cell_type": "code",
   "execution_count": 16,
   "metadata": {},
   "outputs": [
    {
     "data": {
      "text/plain": [
       "0.7625"
      ]
     },
     "execution_count": 16,
     "metadata": {},
     "output_type": "execute_result"
    }
   ],
   "source": [
    "from sklearn.metrics import accuracy_score, balanced_accuracy_score\n",
    "#для 1 соседа\n",
    "accuracy_score(y_test, target1)"
   ]
  },
  {
   "cell_type": "code",
   "execution_count": 17,
   "metadata": {},
   "outputs": [
    {
     "data": {
      "text/plain": [
       "0.803125"
      ]
     },
     "execution_count": 17,
     "metadata": {},
     "output_type": "execute_result"
    }
   ],
   "source": [
    "#для 10 соседей\n",
    "accuracy_score(y_test, target2)"
   ]
  },
  {
   "cell_type": "code",
   "execution_count": 26,
   "metadata": {},
   "outputs": [
    {
     "data": {
      "text/plain": [
       "array([[ 10,  22,   0],\n",
       "       [ 31, 234,   9],\n",
       "       [  3,  11,   0]], dtype=int64)"
      ]
     },
     "execution_count": 26,
     "metadata": {},
     "output_type": "execute_result"
    }
   ],
   "source": [
    "#матрица ошибок\n",
    "from sklearn.metrics import confusion_matrix\n",
    "confusion_matrix(y_test, target1)"
   ]
  },
  {
   "cell_type": "code",
   "execution_count": 40,
   "metadata": {},
   "outputs": [
    {
     "name": "stdout",
     "output_type": "stream",
     "text": [
      "precision_score()         :  0.803125\n"
     ]
    }
   ],
   "source": [
    "from sklearn.metrics import precision_score\n",
    "print(\"precision_score()         : \",  precision_score(y_test, target2, average='micro'))"
   ]
  },
  {
   "cell_type": "code",
   "execution_count": 42,
   "metadata": {},
   "outputs": [
    {
     "name": "stdout",
     "output_type": "stream",
     "text": [
      "              precision    recall  f1-score   support\n",
      "\n",
      "           2       0.23      0.31      0.26        32\n",
      "           1       0.88      0.85      0.87       274\n",
      "           3       0.00      0.00      0.00        14\n",
      "\n",
      "    accuracy                           0.76       320\n",
      "   macro avg       0.37      0.39      0.38       320\n",
      "weighted avg       0.77      0.76      0.77       320\n",
      "\n"
     ]
    }
   ],
   "source": [
    "from sklearn.metrics import f1_score, classification_report\n",
    "print(classification_report(y_test, target1, target_names=y_test.drop_duplicates()))"
   ]
  },
  {
   "cell_type": "markdown",
   "metadata": {},
   "source": [
    "# Cross-validation"
   ]
  },
  {
   "cell_type": "code",
   "execution_count": 55,
   "metadata": {},
   "outputs": [
    {
     "data": {
      "text/plain": [
       "array([0.72983114, 0.72045028, 0.71669794])"
      ]
     },
     "execution_count": 55,
     "metadata": {},
     "output_type": "execute_result"
    }
   ],
   "source": [
    "from sklearn.model_selection import cross_val_score, cross_validate\n",
    "scores = cross_val_score(KNeighborsClassifier(n_neighbors=2), \n",
    "                         features, target, cv=3)\n",
    "scores"
   ]
  },
  {
   "cell_type": "code",
   "execution_count": 57,
   "metadata": {},
   "outputs": [
    {
     "data": {
      "text/plain": [
       "0.7223264540337712"
      ]
     },
     "execution_count": 57,
     "metadata": {},
     "output_type": "execute_result"
    }
   ],
   "source": [
    "# Усредненное значение метрики accuracy для 3 фолдов\n",
    "np.mean(scores)"
   ]
  },
  {
   "cell_type": "code",
   "execution_count": 59,
   "metadata": {},
   "outputs": [
    {
     "data": {
      "text/plain": [
       "(array([0.72525814, 0.72776421, 0.72096823]), 0.724663528454427)"
      ]
     },
     "execution_count": 59,
     "metadata": {},
     "output_type": "execute_result"
    }
   ],
   "source": [
    "# использование метрики f1\n",
    "scores = cross_val_score(KNeighborsClassifier(n_neighbors=2), \n",
    "                         features, target, cv=3,\n",
    "                        scoring='f1_weighted')\n",
    "scores, np.mean(scores)"
   ]
  },
  {
   "cell_type": "code",
   "execution_count": 60,
   "metadata": {},
   "outputs": [],
   "source": [
    "scoring = {'precision': 'precision_weighted', \n",
    "           'recall': 'recall_weighted',\n",
    "           'f1': 'f1_weighted'}"
   ]
  },
  {
   "cell_type": "code",
   "execution_count": 62,
   "metadata": {},
   "outputs": [
    {
     "data": {
      "text/plain": [
       "{'fit_time': array([0.00475407, 0.01417732, 0.        ]),\n",
       " 'score_time': array([0.06089926, 0.04818606, 0.06365204]),\n",
       " 'test_precision': array([0.7505284 , 0.7400799 , 0.72948646]),\n",
       " 'train_precision': array([0.91998785, 0.9133126 , 0.92034524]),\n",
       " 'test_recall': array([0.72983114, 0.72045028, 0.71669794]),\n",
       " 'train_recall': array([0.90150094, 0.8902439 , 0.89962477]),\n",
       " 'test_f1': array([0.72525814, 0.72776421, 0.72096823]),\n",
       " 'train_f1': array([0.89190066, 0.879706  , 0.88945397])}"
      ]
     },
     "execution_count": 62,
     "metadata": {},
     "output_type": "execute_result"
    }
   ],
   "source": [
    "scores = cross_validate(KNeighborsClassifier(n_neighbors=2), \n",
    "                        features, target, scoring=scoring, \n",
    "                        cv=3, return_train_score=True)\n",
    "scores"
   ]
  },
  {
   "cell_type": "code",
   "execution_count": 65,
   "metadata": {},
   "outputs": [
    {
     "name": "stdout",
     "output_type": "stream",
     "text": [
      "[0 1 3 4 5 7 8 9] [ 2  6 10 11]\n",
      "[ 2  3  4  5  6  9 10 11] [0 1 7 8]\n",
      "[ 0  1  2  6  7  8 10 11] [3 4 5 9]\n",
      "[ 2  3  4  6  7  9 10 11] [0 1 5 8]\n",
      "[ 0  1  5  6  7  8  9 10] [ 2  3  4 11]\n",
      "[ 0  1  2  3  4  5  8 11] [ 6  7  9 10]\n"
     ]
    }
   ],
   "source": [
    "from sklearn.model_selection import KFold, RepeatedKFold, LeaveOneOut, LeavePOut, ShuffleSplit, StratifiedKFold\n",
    "X = range(12)\n",
    "kf = RepeatedKFold(n_splits=3, n_repeats=2)\n",
    "for train, test in kf.split(X):\n",
    "    print(\"%s %s\" % (train, test))"
   ]
  },
  {
   "cell_type": "code",
   "execution_count": 66,
   "metadata": {},
   "outputs": [
    {
     "name": "stdout",
     "output_type": "stream",
     "text": [
      "[ 1  4 10  7  6  0  9 11  3] [8 2 5]\n",
      "[ 6 11  3 10  2  5  7  4  9] [8 0 1]\n",
      "[ 9  6  8 10 11  0  2  5  4] [1 3 7]\n",
      "[ 6  9  8  1  4  3 11  0  2] [ 7 10  5]\n",
      "[ 8  1  9  4  0 11  7  2  6] [ 5 10  3]\n"
     ]
    }
   ],
   "source": [
    "X = range(12)\n",
    "# Эквивалент KFold(n_splits=n)\n",
    "kf = ShuffleSplit(n_splits=5, test_size=0.25)\n",
    "for train, test in kf.split(X):\n",
    "    print(\"%s %s\" % (train, test))"
   ]
  },
  {
   "cell_type": "code",
   "execution_count": 67,
   "metadata": {},
   "outputs": [
    {
     "data": {
      "text/plain": [
       "[{'n_neighbors': array([ 5, 10, 15, 20, 25, 30, 35, 40, 45, 50])}]"
      ]
     },
     "execution_count": 67,
     "metadata": {},
     "output_type": "execute_result"
    }
   ],
   "source": [
    "#Grid Search (решетчатый поиск)\n",
    "n_range = np.array(range(5,55,5))\n",
    "tuned_parameters = [{'n_neighbors': n_range}]\n",
    "tuned_parameters"
   ]
  },
  {
   "cell_type": "code",
   "execution_count": 69,
   "metadata": {},
   "outputs": [
    {
     "data": {
      "text/plain": [
       "GridSearchCV(cv=5, error_score=nan,\n",
       "             estimator=KNeighborsClassifier(algorithm='auto', leaf_size=30,\n",
       "                                            metric='minkowski',\n",
       "                                            metric_params=None, n_jobs=None,\n",
       "                                            n_neighbors=5, p=2,\n",
       "                                            weights='uniform'),\n",
       "             iid='deprecated', n_jobs=None,\n",
       "             param_grid=[{'n_neighbors': array([ 5, 10, 15, 20, 25, 30, 35, 40, 45, 50])}],\n",
       "             pre_dispatch='2*n_jobs', refit=True, return_train_score=False,\n",
       "             scoring='accuracy', verbose=0)"
      ]
     },
     "execution_count": 69,
     "metadata": {},
     "output_type": "execute_result"
    }
   ],
   "source": [
    "from sklearn.model_selection import GridSearchCV, RandomizedSearchCV\n",
    "clf_gs = GridSearchCV(KNeighborsClassifier(), tuned_parameters, cv=5, scoring='accuracy')\n",
    "clf_gs.fit(X_train, y_train)"
   ]
  },
  {
   "cell_type": "code",
   "execution_count": 70,
   "metadata": {},
   "outputs": [
    {
     "data": {
      "text/plain": [
       "{'mean_fit_time': array([0.00429668, 0.0018321 , 0.0015305 , 0.00197325, 0.00673361,\n",
       "        0.00600233, 0.00398626, 0.0042356 , 0.00556345, 0.00322609]),\n",
       " 'std_fit_time': array([0.00307001, 0.00366421, 0.00189685, 0.00163367, 0.00489949,\n",
       "        0.00109136, 0.00213479, 0.0023889 , 0.00137372, 0.00116619]),\n",
       " 'mean_score_time': array([0.02058072, 0.02559185, 0.03075414, 0.03192902, 0.0274797 ,\n",
       "        0.02965107, 0.03246536, 0.03793678, 0.02883825, 0.02128735]),\n",
       " 'std_score_time': array([0.00471597, 0.00859289, 0.00574594, 0.00277884, 0.00805261,\n",
       "        0.00516102, 0.00833131, 0.0031426 , 0.00435883, 0.00301588]),\n",
       " 'param_n_neighbors': masked_array(data=[5, 10, 15, 20, 25, 30, 35, 40, 45, 50],\n",
       "              mask=[False, False, False, False, False, False, False, False,\n",
       "                    False, False],\n",
       "        fill_value='?',\n",
       "             dtype=object),\n",
       " 'params': [{'n_neighbors': 5},\n",
       "  {'n_neighbors': 10},\n",
       "  {'n_neighbors': 15},\n",
       "  {'n_neighbors': 20},\n",
       "  {'n_neighbors': 25},\n",
       "  {'n_neighbors': 30},\n",
       "  {'n_neighbors': 35},\n",
       "  {'n_neighbors': 40},\n",
       "  {'n_neighbors': 45},\n",
       "  {'n_neighbors': 50}],\n",
       " 'split0_test_score': array([0.75      , 0.7734375 , 0.76953125, 0.76953125, 0.78125   ,\n",
       "        0.7734375 , 0.78515625, 0.7890625 , 0.79296875, 0.7890625 ]),\n",
       " 'split1_test_score': array([0.8203125 , 0.83203125, 0.8359375 , 0.83203125, 0.83203125,\n",
       "        0.8203125 , 0.8125    , 0.80859375, 0.81640625, 0.81640625]),\n",
       " 'split2_test_score': array([0.78515625, 0.78125   , 0.80078125, 0.80078125, 0.80078125,\n",
       "        0.80078125, 0.796875  , 0.80859375, 0.8125    , 0.81640625]),\n",
       " 'split3_test_score': array([0.76171875, 0.78515625, 0.796875  , 0.796875  , 0.8125    ,\n",
       "        0.8125    , 0.8125    , 0.81640625, 0.8046875 , 0.80859375]),\n",
       " 'split4_test_score': array([0.79607843, 0.80392157, 0.81568627, 0.81568627, 0.81960784,\n",
       "        0.81568627, 0.82352941, 0.81960784, 0.81568627, 0.81568627]),\n",
       " 'mean_test_score': array([0.78265319, 0.79515931, 0.80376225, 0.802981  , 0.80923407,\n",
       "        0.8045435 , 0.80611213, 0.80845282, 0.80844975, 0.809231  ]),\n",
       " 'std_test_score': array([0.02493675, 0.0209842 , 0.02193404, 0.02081513, 0.01727745,\n",
       "        0.01683963, 0.01348662, 0.01061806, 0.00878514, 0.01050537]),\n",
       " 'rank_test_score': array([10,  9,  7,  8,  1,  6,  5,  3,  4,  2])}"
      ]
     },
     "execution_count": 70,
     "metadata": {},
     "output_type": "execute_result"
    }
   ],
   "source": [
    "clf_gs.cv_results_"
   ]
  },
  {
   "cell_type": "code",
   "execution_count": 71,
   "metadata": {},
   "outputs": [
    {
     "data": {
      "text/plain": [
       "KNeighborsClassifier(algorithm='auto', leaf_size=30, metric='minkowski',\n",
       "                     metric_params=None, n_jobs=None, n_neighbors=25, p=2,\n",
       "                     weights='uniform')"
      ]
     },
     "execution_count": 71,
     "metadata": {},
     "output_type": "execute_result"
    }
   ],
   "source": [
    "# Лучшая модель\n",
    "clf_gs.best_estimator_"
   ]
  },
  {
   "cell_type": "code",
   "execution_count": 72,
   "metadata": {},
   "outputs": [
    {
     "data": {
      "text/plain": [
       "0.809234068627451"
      ]
     },
     "execution_count": 72,
     "metadata": {},
     "output_type": "execute_result"
    }
   ],
   "source": [
    "# Лучшее значение метрики\n",
    "clf_gs.best_score_"
   ]
  },
  {
   "cell_type": "code",
   "execution_count": 73,
   "metadata": {},
   "outputs": [
    {
     "data": {
      "text/plain": [
       "{'n_neighbors': 25}"
      ]
     },
     "execution_count": 73,
     "metadata": {},
     "output_type": "execute_result"
    }
   ],
   "source": [
    "# Лучшее значение параметров\n",
    "clf_gs.best_params_"
   ]
  },
  {
   "cell_type": "code",
   "execution_count": 88,
   "metadata": {},
   "outputs": [
    {
     "ename": "KeyError",
     "evalue": "'mean_train_score'",
     "output_type": "error",
     "traceback": [
      "\u001b[1;31m---------------------------------------------------------------------------\u001b[0m",
      "\u001b[1;31mKeyError\u001b[0m                                  Traceback (most recent call last)",
      "\u001b[1;32m<ipython-input-88-fe7b56ec025a>\u001b[0m in \u001b[0;36m<module>\u001b[1;34m\u001b[0m\n\u001b[0;32m      1\u001b[0m \u001b[1;31m# Изменение качества на обучающей выборке\u001b[0m\u001b[1;33m\u001b[0m\u001b[1;33m\u001b[0m\u001b[1;33m\u001b[0m\u001b[0m\n\u001b[0;32m      2\u001b[0m \u001b[1;32mfrom\u001b[0m \u001b[0msklearn\u001b[0m\u001b[1;33m.\u001b[0m\u001b[0mmetrics\u001b[0m \u001b[1;32mimport\u001b[0m \u001b[0mmean_absolute_error\u001b[0m\u001b[1;33m,\u001b[0m \u001b[0mmean_squared_error\u001b[0m\u001b[1;33m,\u001b[0m \u001b[0mmean_squared_log_error\u001b[0m\u001b[1;33m,\u001b[0m \u001b[0mmedian_absolute_error\u001b[0m\u001b[1;33m,\u001b[0m \u001b[0mr2_score\u001b[0m\u001b[1;33m\u001b[0m\u001b[1;33m\u001b[0m\u001b[0m\n\u001b[1;32m----> 3\u001b[1;33m \u001b[0mplt\u001b[0m\u001b[1;33m.\u001b[0m\u001b[0mplot\u001b[0m\u001b[1;33m(\u001b[0m\u001b[0mn_range\u001b[0m\u001b[1;33m,\u001b[0m \u001b[0mclf_gs\u001b[0m\u001b[1;33m.\u001b[0m\u001b[0mcv_results_\u001b[0m\u001b[1;33m[\u001b[0m\u001b[1;34m'mean_train_score'\u001b[0m\u001b[1;33m]\u001b[0m\u001b[1;33m)\u001b[0m\u001b[1;33m\u001b[0m\u001b[1;33m\u001b[0m\u001b[0m\n\u001b[0m",
      "\u001b[1;31mKeyError\u001b[0m: 'mean_train_score'"
     ]
    }
   ],
   "source": [
    "# Изменение качества на обучающей выборке\n",
    "from sklearn.metrics import mean_absolute_error, mean_squared_error, mean_squared_log_error, median_absolute_error, r2_score \n",
    "plt.plot(n_range, clf_gs.cv_results_['mean_train_score'])"
   ]
  },
  {
   "cell_type": "code",
   "execution_count": 75,
   "metadata": {},
   "outputs": [],
   "source": [
    "#Обучение модели и оценка качества с учетом подобранных гиперпараметров\n",
    "clf_gs.best_estimator_.fit(X_train, y_train)\n",
    "target2_0 = clf_gs.best_estimator_.predict(X_train)\n",
    "target2_1 = clf_gs.best_estimator_.predict(X_test)"
   ]
  },
  {
   "cell_type": "code",
   "execution_count": 76,
   "metadata": {},
   "outputs": [
    {
     "data": {
      "text/plain": [
       "(0.8209538702111024, 0.840625)"
      ]
     },
     "execution_count": 76,
     "metadata": {},
     "output_type": "execute_result"
    }
   ],
   "source": [
    "# Новое качество модели\n",
    "accuracy_score(y_train, target2_0), accuracy_score(y_test, target2_1)"
   ]
  },
  {
   "cell_type": "code",
   "execution_count": 84,
   "metadata": {},
   "outputs": [],
   "source": [
    "def plot_learning_curve(estimator, title, X, y, ylim=None, cv=None,\n",
    "                        n_jobs=None, train_sizes=np.linspace(.1, 1.0, 5)):\n",
    "    plt.figure()\n",
    "    plt.title(title)\n",
    "    if ylim is not None:\n",
    "        plt.ylim(*ylim)\n",
    "    plt.xlabel(\"Training examples\")\n",
    "    plt.ylabel(\"Score\")\n",
    "    train_sizes, train_scores, test_scores = learning_curve(\n",
    "        estimator, X, y, cv=cv, n_jobs=n_jobs, train_sizes=train_sizes)\n",
    "    train_scores_mean = np.mean(train_scores, axis=1)\n",
    "    train_scores_std = np.std(train_scores, axis=1)\n",
    "    test_scores_mean = np.mean(test_scores, axis=1)\n",
    "    test_scores_std = np.std(test_scores, axis=1)\n",
    "    plt.grid()\n",
    "\n",
    "    plt.fill_between(train_sizes, train_scores_mean - train_scores_std,\n",
    "                     train_scores_mean + train_scores_std, alpha=0.1,\n",
    "                     color=\"r\")\n",
    "    plt.fill_between(train_sizes, test_scores_mean - test_scores_std,\n",
    "                     test_scores_mean + test_scores_std, alpha=0.1, color=\"g\")\n",
    "    plt.plot(train_sizes, train_scores_mean, 'o-', color=\"r\",\n",
    "             label=\"Training score\")\n",
    "    plt.plot(train_sizes, test_scores_mean, 'o-', color=\"g\",\n",
    "             label=\"Cross-validation score\")\n",
    "\n",
    "    plt.legend(loc=\"best\")\n",
    "    return plt"
   ]
  },
  {
   "cell_type": "code",
   "execution_count": 85,
   "metadata": {},
   "outputs": [
    {
     "data": {
      "text/plain": [
       "<module 'matplotlib.pyplot' from 'c:\\\\users\\\\пк\\\\appdata\\\\local\\\\programs\\\\python\\\\python38\\\\lib\\\\site-packages\\\\matplotlib\\\\pyplot.py'>"
      ]
     },
     "execution_count": 85,
     "metadata": {},
     "output_type": "execute_result"
    },
    {
     "data": {
      "image/png": "[encoded data removed]",
      "text/plain": [
       "<Figure size 432x288 with 1 Axes>"
      ]
     },
     "metadata": {
      "needs_background": "light"
     },
     "output_type": "display_data"
    }
   ],
   "source": [
    "from sklearn.model_selection import learning_curve, validation_curve\n",
    "plot_learning_curve(KNeighborsClassifier(n_neighbors=5), 'n_neighbors=5', \n",
    "                    features, target, cv=20)"
   ]
  },
  {
   "cell_type": "code",
   "execution_count": 89,
   "metadata": {},
   "outputs": [],
   "source": [
    "def plot_validation_curve(estimator, title, X, y, \n",
    "                          param_name, param_range, cv, \n",
    "                          scoring=\"accuracy\"):\n",
    "                                                   \n",
    "    train_scores, test_scores = validation_curve(\n",
    "        estimator, X, y, param_name=param_name, param_range=param_range,\n",
    "        cv=cv, scoring=scoring, n_jobs=1)\n",
    "    train_scores_mean = np.mean(train_scores, axis=1)\n",
    "    train_scores_std = np.std(train_scores, axis=1)\n",
    "    test_scores_mean = np.mean(test_scores, axis=1)\n",
    "    test_scores_std = np.std(test_scores, axis=1)\n",
    "\n",
    "    plt.title(title)\n",
    "    plt.xlabel(param_name)\n",
    "    plt.ylabel(\"Score\")\n",
    "    plt.ylim(0.0, 1.1)\n",
    "    lw = 2\n",
    "    plt.plot(param_range, train_scores_mean, label=\"Training score\",\n",
    "                 color=\"darkorange\", lw=lw)\n",
    "    plt.fill_between(param_range, train_scores_mean - train_scores_std,\n",
    "                     train_scores_mean + train_scores_std, alpha=0.2,\n",
    "                     color=\"darkorange\", lw=lw)\n",
    "    plt.plot(param_range, test_scores_mean, label=\"Cross-validation score\",\n",
    "                 color=\"navy\", lw=lw)\n",
    "    plt.fill_between(param_range, test_scores_mean - test_scores_std,\n",
    "                     test_scores_mean + test_scores_std, alpha=0.2,\n",
    "                     color=\"navy\", lw=lw)\n",
    "    plt.legend(loc=\"best\")\n",
    "    return plt"
   ]
  },
  {
   "cell_type": "code",
   "execution_count": 90,
   "metadata": {},
   "outputs": [
    {
     "data": {
      "text/plain": [
       "<module 'matplotlib.pyplot' from 'c:\\\\users\\\\пк\\\\appdata\\\\local\\\\programs\\\\python\\\\python38\\\\lib\\\\site-packages\\\\matplotlib\\\\pyplot.py'>"
      ]
     },
     "execution_count": 90,
     "metadata": {},
     "output_type": "execute_result"
    },
    {
     "data": {
      "image/png": "[encoded data removed]",
      "text/plain": [
       "<Figure size 432x288 with 1 Axes>"
      ]
     },
     "metadata": {
      "needs_background": "light"
     },
     "output_type": "display_data"
    }
   ],
   "source": [
    "plot_validation_curve(KNeighborsClassifier(), 'knn', \n",
    "                      X_train, y_train, \n",
    "                      param_name='n_neighbors', param_range=n_range, \n",
    "                      cv=20, scoring=\"accuracy\")"
   ]
  },
  {
   "cell_type": "code",
   "execution_count": null,
   "metadata": {},
   "outputs": [],
   "source": []
  }
 ],
 "metadata": {
  "kernelspec": {
   "display_name": "Python 3",
   "language": "python",
   "name": "python3"
  },
  "language_info": {
   "codemirror_mode": {
    "name": "ipython",
    "version": 3
   },
   "file_extension": ".py",
   "mimetype": "text/x-python",
   "name": "python",
   "nbconvert_exporter": "python",
   "pygments_lexer": "ipython3",
   "version": "3.8.1"
  }
 },
 "nbformat": 4,
 "nbformat_minor": 4
}
